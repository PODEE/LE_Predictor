{
  "nbformat": 4,
  "nbformat_minor": 0,
  "metadata": {
    "colab": {
      "name": "LE_Regressor.ipynb",
      "provenance": [],
      "collapsed_sections": [],
      "authorship_tag": "ABX9TyNG8bPGlx8L40RgLZ+/PFYA",
      "include_colab_link": true
    },
    "kernelspec": {
      "name": "python3",
      "display_name": "Python 3"
    },
    "language_info": {
      "name": "python"
    }
  },
  "cells": [
    {
      "cell_type": "markdown",
      "metadata": {
        "id": "view-in-github",
        "colab_type": "text"
      },
      "source": [
        "<a href=\"https://colab.research.google.com/github/PODEE/PODEE/blob/main/LE_Regressor.ipynb\" target=\"_parent\"><img src=\"https://colab.research.google.com/assets/colab-badge.svg\" alt=\"Open In Colab\"/></a>"
      ]
    },
    {
      "cell_type": "code",
      "metadata": {
        "id": "yQf5rWX6sxXe"
      },
      "source": [
        "import pandas as pd\n",
        "import numpy as np\n",
        "import matplotlib.pyplot as plt\n",
        "import pprint"
      ],
      "execution_count": 29,
      "outputs": []
    },
    {
      "cell_type": "markdown",
      "metadata": {
        "id": "wmmD8f53tbEA"
      },
      "source": [
        "##Load & Explore Data"
      ]
    },
    {
      "cell_type": "code",
      "metadata": {
        "colab": {
          "base_uri": "https://localhost:8080/",
          "height": 204
        },
        "id": "lG1Czif2teNU",
        "outputId": "3838e197-1a86-4b66-ea88-8190f45debfb"
      },
      "source": [
        "df = pd.read_excel(\"AVS.xlsx\")\n",
        "df.head(5)"
      ],
      "execution_count": 30,
      "outputs": [
        {
          "output_type": "execute_result",
          "data": {
            "text/html": [
              "<div>\n",
              "<style scoped>\n",
              "    .dataframe tbody tr th:only-of-type {\n",
              "        vertical-align: middle;\n",
              "    }\n",
              "\n",
              "    .dataframe tbody tr th {\n",
              "        vertical-align: top;\n",
              "    }\n",
              "\n",
              "    .dataframe thead th {\n",
              "        text-align: right;\n",
              "    }\n",
              "</style>\n",
              "<table border=\"1\" class=\"dataframe\">\n",
              "  <thead>\n",
              "    <tr style=\"text-align: right;\">\n",
              "      <th></th>\n",
              "      <th>Gender</th>\n",
              "      <th>DOB</th>\n",
              "      <th>Report Date</th>\n",
              "      <th>Smoking Class</th>\n",
              "      <th>Primary Diagnosis</th>\n",
              "      <th>MortalityFactor</th>\n",
              "      <th>Age</th>\n",
              "      <th>LE-Months</th>\n",
              "    </tr>\n",
              "  </thead>\n",
              "  <tbody>\n",
              "    <tr>\n",
              "      <th>0</th>\n",
              "      <td>Female</td>\n",
              "      <td>1927-12-12</td>\n",
              "      <td>2018-11-12</td>\n",
              "      <td>Non-Smoker</td>\n",
              "      <td>Atrial Fibrillation</td>\n",
              "      <td>155</td>\n",
              "      <td>90.916667</td>\n",
              "      <td>64</td>\n",
              "    </tr>\n",
              "    <tr>\n",
              "      <th>1</th>\n",
              "      <td>Male</td>\n",
              "      <td>1926-09-25</td>\n",
              "      <td>2018-11-13</td>\n",
              "      <td>Non-Smoker</td>\n",
              "      <td>Build</td>\n",
              "      <td>150</td>\n",
              "      <td>92.133333</td>\n",
              "      <td>54</td>\n",
              "    </tr>\n",
              "    <tr>\n",
              "      <th>2</th>\n",
              "      <td>Male</td>\n",
              "      <td>1944-04-11</td>\n",
              "      <td>2018-11-15</td>\n",
              "      <td>Non-Smoker</td>\n",
              "      <td>Alzheimer's Disease</td>\n",
              "      <td>665</td>\n",
              "      <td>74.594444</td>\n",
              "      <td>76</td>\n",
              "    </tr>\n",
              "    <tr>\n",
              "      <th>3</th>\n",
              "      <td>Male</td>\n",
              "      <td>1934-10-26</td>\n",
              "      <td>2018-11-16</td>\n",
              "      <td>Non-Smoker</td>\n",
              "      <td>Miscellaneous</td>\n",
              "      <td>150</td>\n",
              "      <td>84.055556</td>\n",
              "      <td>94</td>\n",
              "    </tr>\n",
              "    <tr>\n",
              "      <th>4</th>\n",
              "      <td>Female</td>\n",
              "      <td>1930-09-16</td>\n",
              "      <td>2018-11-19</td>\n",
              "      <td>Non-Smoker</td>\n",
              "      <td>Alzheimer's Disease</td>\n",
              "      <td>450</td>\n",
              "      <td>88.175000</td>\n",
              "      <td>36</td>\n",
              "    </tr>\n",
              "  </tbody>\n",
              "</table>\n",
              "</div>"
            ],
            "text/plain": [
              "   Gender        DOB Report Date  ... MortalityFactor        Age  LE-Months\n",
              "0  Female 1927-12-12  2018-11-12  ...             155  90.916667         64\n",
              "1    Male 1926-09-25  2018-11-13  ...             150  92.133333         54\n",
              "2    Male 1944-04-11  2018-11-15  ...             665  74.594444         76\n",
              "3    Male 1934-10-26  2018-11-16  ...             150  84.055556         94\n",
              "4  Female 1930-09-16  2018-11-19  ...             450  88.175000         36\n",
              "\n",
              "[5 rows x 8 columns]"
            ]
          },
          "metadata": {
            "tags": []
          },
          "execution_count": 30
        }
      ]
    },
    {
      "cell_type": "code",
      "metadata": {
        "colab": {
          "base_uri": "https://localhost:8080/",
          "height": 0
        },
        "id": "V-Cs_n9Xt1hM",
        "outputId": "a709936f-66c8-4acf-af15-37b6447f9075"
      },
      "source": [
        "df.info()"
      ],
      "execution_count": 31,
      "outputs": [
        {
          "output_type": "stream",
          "text": [
            "<class 'pandas.core.frame.DataFrame'>\n",
            "RangeIndex: 561 entries, 0 to 560\n",
            "Data columns (total 8 columns):\n",
            " #   Column             Non-Null Count  Dtype         \n",
            "---  ------             --------------  -----         \n",
            " 0   Gender             561 non-null    object        \n",
            " 1   DOB                561 non-null    datetime64[ns]\n",
            " 2   Report Date        561 non-null    datetime64[ns]\n",
            " 3   Smoking Class      561 non-null    object        \n",
            " 4   Primary Diagnosis  561 non-null    object        \n",
            " 5   MortalityFactor    561 non-null    int64         \n",
            " 6   Age                561 non-null    float64       \n",
            " 7   LE-Months          561 non-null    int64         \n",
            "dtypes: datetime64[ns](2), float64(1), int64(2), object(3)\n",
            "memory usage: 35.2+ KB\n"
          ],
          "name": "stdout"
        }
      ]
    },
    {
      "cell_type": "code",
      "metadata": {
        "colab": {
          "base_uri": "https://localhost:8080/",
          "height": 0
        },
        "id": "q9OZe4ndwiZB",
        "outputId": "5ae13fcc-ff23-4da0-bc0a-6aff6c14a52b"
      },
      "source": [
        "df.columns"
      ],
      "execution_count": 32,
      "outputs": [
        {
          "output_type": "execute_result",
          "data": {
            "text/plain": [
              "Index(['Gender', 'DOB', 'Report Date', 'Smoking Class', 'Primary Diagnosis',\n",
              "       'MortalityFactor', 'Age', 'LE-Months'],\n",
              "      dtype='object')"
            ]
          },
          "metadata": {
            "tags": []
          },
          "execution_count": 32
        }
      ]
    },
    {
      "cell_type": "code",
      "metadata": {
        "colab": {
          "base_uri": "https://localhost:8080/",
          "height": 0
        },
        "id": "csRn6vWWwp98",
        "outputId": "7150515a-7018-46d6-d86d-67d4755ac48c"
      },
      "source": [
        "df['Smoking Class'].value_counts()\n",
        "df['Gender'].value_counts()\n",
        "#df['Primary Diagnosis'].value_counts()"
      ],
      "execution_count": 33,
      "outputs": [
        {
          "output_type": "execute_result",
          "data": {
            "text/plain": [
              "Male      392\n",
              "Female    169\n",
              "Name: Gender, dtype: int64"
            ]
          },
          "metadata": {
            "tags": []
          },
          "execution_count": 33
        }
      ]
    },
    {
      "cell_type": "code",
      "metadata": {
        "colab": {
          "base_uri": "https://localhost:8080/",
          "height": 964
        },
        "id": "UEP7ppJSwrri",
        "outputId": "c5200bb8-96b4-42c9-b29a-9076841879af"
      },
      "source": [
        "df.hist(bins=50, figsize=(20,15)) #Histogram exploring Numeric Data"
      ],
      "execution_count": 34,
      "outputs": [
        {
          "output_type": "execute_result",
          "data": {
            "text/plain": [
              "array([[<matplotlib.axes._subplots.AxesSubplot object at 0x7fd6de40fd10>,\n",
              "        <matplotlib.axes._subplots.AxesSubplot object at 0x7fd6de40d450>],\n",
              "       [<matplotlib.axes._subplots.AxesSubplot object at 0x7fd6de3ba990>,\n",
              "        <matplotlib.axes._subplots.AxesSubplot object at 0x7fd6de38e310>]],\n",
              "      dtype=object)"
            ]
          },
          "metadata": {
            "tags": []
          },
          "execution_count": 34
        },
        {
          "output_type": "display_data",
          "data": {
            "image/png": "[encoded data removed]",
            "text/plain": [
              "<Figure size 1440x1080 with 4 Axes>"
            ]
          },
          "metadata": {
            "tags": [],
            "needs_background": "light"
          }
        }
      ]
    },
    {
      "cell_type": "code",
      "metadata": {
        "id": "CVxbmoLEw7Wj"
      },
      "source": [
        "from sklearn.model_selection import  train_test_split #split 90% for training, 10% for testing\n",
        "train, test = train_test_split(df, test_size=0.1, random_state=42)"
      ],
      "execution_count": 35,
      "outputs": []
    },
    {
      "cell_type": "code",
      "metadata": {
        "colab": {
          "base_uri": "https://localhost:8080/",
          "height": 0
        },
        "id": "uskPqbukxH8v",
        "outputId": "8bf6a81b-2375-4db4-8aaf-e4f0f865f8ed"
      },
      "source": [
        "len(train), len(test)"
      ],
      "execution_count": 36,
      "outputs": [
        {
          "output_type": "execute_result",
          "data": {
            "text/plain": [
              "(504, 57)"
            ]
          },
          "metadata": {
            "tags": []
          },
          "execution_count": 36
        }
      ]
    },
    {
      "cell_type": "code",
      "metadata": {
        "colab": {
          "base_uri": "https://localhost:8080/",
          "height": 0
        },
        "id": "qrp5mVqgxMWk",
        "outputId": "d8d9b9f1-63bf-49c0-c45b-33ad901abfc1"
      },
      "source": [
        "corr_matrix = train.corr()\n",
        "corr_matrix\n",
        "corr_matrix['LE-Months'].sort_values(ascending=False)"
      ],
      "execution_count": 37,
      "outputs": [
        {
          "output_type": "execute_result",
          "data": {
            "text/plain": [
              "LE-Months          1.000000\n",
              "MortalityFactor   -0.074736\n",
              "Age               -0.391264\n",
              "Name: LE-Months, dtype: float64"
            ]
          },
          "metadata": {
            "tags": []
          },
          "execution_count": 37
        }
      ]
    },
    {
      "cell_type": "code",
      "metadata": {
        "colab": {
          "base_uri": "https://localhost:8080/",
          "height": 677
        },
        "id": "YkD4i5BGxcfq",
        "outputId": "bd9bfdbc-67c3-4e93-ba16-9fd4a075a09a"
      },
      "source": [
        "#Visualize correlation matrix\n",
        "from pandas.plotting import scatter_matrix\n",
        "scatter_matrix(train[['MortalityFactor', 'Age', 'LE-Months']], figsize=(12, 8))"
      ],
      "execution_count": 38,
      "outputs": [
        {
          "output_type": "execute_result",
          "data": {
            "text/plain": [
              "array([[<matplotlib.axes._subplots.AxesSubplot object at 0x7fd6de3c4450>,\n",
              "        <matplotlib.axes._subplots.AxesSubplot object at 0x7fd6de425c10>,\n",
              "        <matplotlib.axes._subplots.AxesSubplot object at 0x7fd6de379790>],\n",
              "       [<matplotlib.axes._subplots.AxesSubplot object at 0x7fd6de067c50>,\n",
              "        <matplotlib.axes._subplots.AxesSubplot object at 0x7fd6de028310>,\n",
              "        <matplotlib.axes._subplots.AxesSubplot object at 0x7fd6ddfdd990>],\n",
              "       [<matplotlib.axes._subplots.AxesSubplot object at 0x7fd6ddf95fd0>,\n",
              "        <matplotlib.axes._subplots.AxesSubplot object at 0x7fd6ddf56690>,\n",
              "        <matplotlib.axes._subplots.AxesSubplot object at 0x7fd6ddf566d0>]],\n",
              "      dtype=object)"
            ]
          },
          "metadata": {
            "tags": []
          },
          "execution_count": 38
        },
        {
          "output_type": "display_data",
          "data": {
            "image/png": "[encoded data removed]",
            "text/plain": [
              "<Figure size 864x576 with 9 Axes>"
            ]
          },
          "metadata": {
            "tags": [],
            "needs_background": "light"
          }
        }
      ]
    },
    {
      "cell_type": "code",
      "metadata": {
        "id": "JnBKmUFDxtrX"
      },
      "source": [
        "X_train = train.drop('LE-Months', axis=1)\n",
        "y_train = train['LE-Months'].copy()"
      ],
      "execution_count": 39,
      "outputs": []
    },
    {
      "cell_type": "code",
      "metadata": {
        "id": "RBnaDR_xx-XW"
      },
      "source": [
        "#Separate numeric variables from categorical variables\n",
        "X_train_num = X_train[['MortalityFactor', 'Age']]\n",
        "X_train_cat = X_train.drop(['MortalityFactor', 'Age', 'Report Date', 'DOB'], axis=1)"
      ],
      "execution_count": 40,
      "outputs": []
    },
    {
      "cell_type": "code",
      "metadata": {
        "id": "cBV1QYh3yD3I"
      },
      "source": [
        "#Start DataCleansing & Transformations\n",
        "from sklearn.impute import SimpleImputer\n",
        "from sklearn.pipeline import Pipeline\n",
        "from sklearn.preprocessing import StandardScaler, MinMaxScaler, OneHotEncoder"
      ],
      "execution_count": 41,
      "outputs": []
    },
    {
      "cell_type": "code",
      "metadata": {
        "id": "auSPraWSyPl7"
      },
      "source": [
        "#Create a pipeline to transform numeric variables\n",
        "num_pipeline = Pipeline([\n",
        "        ('imputer', SimpleImputer(strategy=\"median\")), #replace missing values with median\n",
        "        ('std_scaler', StandardScaler()),\n",
        "    ])\n",
        "\n",
        "X_train_num_tr = num_pipeline.fit_transform(X_train_num)"
      ],
      "execution_count": 42,
      "outputs": []
    },
    {
      "cell_type": "code",
      "metadata": {
        "id": "2sjxPfs_yqFE"
      },
      "source": [
        "#Use ColumnTransformer to transform all variables in a single step\n",
        "from sklearn.compose import ColumnTransformer\n",
        "\n",
        "num_attribs = list(X_train_num)\n",
        "cat_attribs = list(X_train_cat)\n",
        "\n",
        "full_pipeline = ColumnTransformer([\n",
        "        (\"num\", num_pipeline, num_attribs),\n",
        "        (\"cat\", OneHotEncoder(), cat_attribs),\n",
        "    ])\n",
        "\n",
        "X_train_prepared = full_pipeline.fit_transform(X_train)"
      ],
      "execution_count": 43,
      "outputs": []
    },
    {
      "cell_type": "code",
      "metadata": {
        "colab": {
          "base_uri": "https://localhost:8080/",
          "height": 0
        },
        "id": "znnjZ-6oy27Q",
        "outputId": "f606a9a0-b39d-4060-d20b-1edc7e1c10fa"
      },
      "source": [
        "X_train_prepared.shape"
      ],
      "execution_count": 44,
      "outputs": [
        {
          "output_type": "execute_result",
          "data": {
            "text/plain": [
              "(504, 54)"
            ]
          },
          "metadata": {
            "tags": []
          },
          "execution_count": 44
        }
      ]
    },
    {
      "cell_type": "markdown",
      "metadata": {
        "id": "rMYmjhr31L-4"
      },
      "source": [
        "##1 - Multiple Regression Model"
      ]
    },
    {
      "cell_type": "code",
      "metadata": {
        "colab": {
          "base_uri": "https://localhost:8080/",
          "height": 0
        },
        "id": "5jNSJFOi1IXM",
        "outputId": "ea7ec163-8e5b-4337-acbd-34f710e7cbf3"
      },
      "source": [
        "from sklearn.linear_model import LinearRegression\n",
        "\n",
        "lin_reg = LinearRegression()\n",
        "lin_reg.fit(X_train_prepared, y_train)"
      ],
      "execution_count": 45,
      "outputs": [
        {
          "output_type": "execute_result",
          "data": {
            "text/plain": [
              "LinearRegression(copy_X=True, fit_intercept=True, n_jobs=None, normalize=False)"
            ]
          },
          "metadata": {
            "tags": []
          },
          "execution_count": 45
        }
      ]
    },
    {
      "cell_type": "code",
      "metadata": {
        "id": "QseiSI-k1ZTi"
      },
      "source": [
        "X_test = test.drop('LE-Months', axis=1)\n",
        "y_test = test['LE-Months'].copy()"
      ],
      "execution_count": 46,
      "outputs": []
    },
    {
      "cell_type": "code",
      "metadata": {
        "id": "LU0ngrPL1pjA"
      },
      "source": [
        "#Transform test data for predictions\n",
        "X_test_prepared = full_pipeline.transform(X_test)\n",
        "test_predictions_lin_reg = lin_reg.predict(X_test_prepared)"
      ],
      "execution_count": 47,
      "outputs": []
    },
    {
      "cell_type": "code",
      "metadata": {
        "colab": {
          "base_uri": "https://localhost:8080/",
          "height": 0
        },
        "id": "LxrtcqHu2MNV",
        "outputId": "f7edd875-b01e-4163-e264-2e982a164c89"
      },
      "source": [
        "from sklearn.metrics import mean_squared_error\n",
        "\n",
        "lin_mse = mean_squared_error(y_test, test_predictions_lin_reg)\n",
        "lin_rmse = np.sqrt(lin_mse)\n",
        "lin_rmse"
      ],
      "execution_count": 20,
      "outputs": [
        {
          "output_type": "execute_result",
          "data": {
            "text/plain": [
              "44.077651450507446"
            ]
          },
          "metadata": {
            "tags": []
          },
          "execution_count": 20
        }
      ]
    },
    {
      "cell_type": "markdown",
      "metadata": {
        "id": "V8D1wjBckK5O"
      },
      "source": [
        "##2 - Decision Tree Regressor\n"
      ]
    },
    {
      "cell_type": "code",
      "metadata": {
        "id": "eRsB5f712jn7",
        "colab": {
          "base_uri": "https://localhost:8080/",
          "height": 0
        },
        "outputId": "9bb87155-df60-4039-d832-c2425ed0f356"
      },
      "source": [
        "from sklearn.tree import DecisionTreeRegressor\n",
        "\n",
        "tree_reg = DecisionTreeRegressor()\n",
        "tree_reg.fit(X_train_prepared, y_train)"
      ],
      "execution_count": 21,
      "outputs": [
        {
          "output_type": "execute_result",
          "data": {
            "text/plain": [
              "DecisionTreeRegressor(ccp_alpha=0.0, criterion='mse', max_depth=None,\n",
              "                      max_features=None, max_leaf_nodes=None,\n",
              "                      min_impurity_decrease=0.0, min_impurity_split=None,\n",
              "                      min_samples_leaf=1, min_samples_split=2,\n",
              "                      min_weight_fraction_leaf=0.0, presort='deprecated',\n",
              "                      random_state=None, splitter='best')"
            ]
          },
          "metadata": {
            "tags": []
          },
          "execution_count": 21
        }
      ]
    },
    {
      "cell_type": "code",
      "metadata": {
        "id": "XaOy0deqxc41"
      },
      "source": [
        "test_predictions_tree = tree_reg.predict(X_test_prepared)"
      ],
      "execution_count": 22,
      "outputs": []
    },
    {
      "cell_type": "code",
      "metadata": {
        "colab": {
          "base_uri": "https://localhost:8080/",
          "height": 0
        },
        "id": "_6kbu_yCx7vq",
        "outputId": "386f32a0-d5b2-4d60-a5ff-33ddf3969f8e"
      },
      "source": [
        "tree_mse = mean_squared_error(y_test, test_predictions_tree)\n",
        "tree_rmse = np.sqrt(tree_mse)\n",
        "tree_rmse"
      ],
      "execution_count": 23,
      "outputs": [
        {
          "output_type": "execute_result",
          "data": {
            "text/plain": [
              "26.502896233655857"
            ]
          },
          "metadata": {
            "tags": []
          },
          "execution_count": 23
        }
      ]
    },
    {
      "cell_type": "markdown",
      "metadata": {
        "id": "NZElg9VF06Yl"
      },
      "source": [
        "##3 - Random Forest Regressor"
      ]
    },
    {
      "cell_type": "code",
      "metadata": {
        "colab": {
          "base_uri": "https://localhost:8080/",
          "height": 0
        },
        "id": "j2WrYPCX0-wc",
        "outputId": "d30d7be9-aaec-4068-e6f1-ee5b94be7a6f"
      },
      "source": [
        "from sklearn.ensemble import RandomForestRegressor\n",
        "\n",
        "forest_reg = RandomForestRegressor()\n",
        "forest_reg.fit(X_train_prepared, y_train)"
      ],
      "execution_count": 24,
      "outputs": [
        {
          "output_type": "execute_result",
          "data": {
            "text/plain": [
              "RandomForestRegressor(bootstrap=True, ccp_alpha=0.0, criterion='mse',\n",
              "                      max_depth=None, max_features='auto', max_leaf_nodes=None,\n",
              "                      max_samples=None, min_impurity_decrease=0.0,\n",
              "                      min_impurity_split=None, min_samples_leaf=1,\n",
              "                      min_samples_split=2, min_weight_fraction_leaf=0.0,\n",
              "                      n_estimators=100, n_jobs=None, oob_score=False,\n",
              "                      random_state=None, verbose=0, warm_start=False)"
            ]
          },
          "metadata": {
            "tags": []
          },
          "execution_count": 24
        }
      ]
    },
    {
      "cell_type": "code",
      "metadata": {
        "id": "oI0Qb5yC1SZI"
      },
      "source": [
        "test_predictions_forest = forest_reg.predict(X_test_prepared)"
      ],
      "execution_count": 25,
      "outputs": []
    },
    {
      "cell_type": "code",
      "metadata": {
        "colab": {
          "base_uri": "https://localhost:8080/",
          "height": 0
        },
        "id": "lLCDnpP81fb7",
        "outputId": "d74a4982-7bf3-4f4f-ce67-a610301ba417"
      },
      "source": [
        "forest_mse = mean_squared_error(y_test, test_predictions_forest)\n",
        "forest_rmse = np.sqrt(forest_mse)\n",
        "forest_rmse"
      ],
      "execution_count": 26,
      "outputs": [
        {
          "output_type": "execute_result",
          "data": {
            "text/plain": [
              "26.608469532785854"
            ]
          },
          "metadata": {
            "tags": []
          },
          "execution_count": 26
        }
      ]
    },
    {
      "cell_type": "markdown",
      "metadata": {
        "id": "4JkxEXGsyyTz"
      },
      "source": [
        "## Better Evaluation Using Cross-Validation"
      ]
    },
    {
      "cell_type": "code",
      "metadata": {
        "id": "HFuEGzDmy0nC"
      },
      "source": [
        "from sklearn.model_selection import cross_val_score\n",
        "\n",
        "#Lin_Reg\n",
        "lin_scores = cross_val_score(lin_reg, X_train_prepared, y_train, scoring=\"neg_mean_squared_error\", cv=10)\n",
        "lin_rmse_scores = np.sqrt(-lin_scores)\n",
        "\n",
        "#DecisionTree\n",
        "tree_scores = cross_val_score(tree_reg, X_train_prepared, y_train, scoring=\"neg_mean_squared_error\", cv=10)\n",
        "tree_rmse_scores = np.sqrt(-tree_scores)\n",
        "\n",
        "#DecisionTree\n",
        "forest_scores = cross_val_score(forest_reg, X_train_prepared, y_train, scoring=\"neg_mean_squared_error\", cv=10)\n",
        "forest_rmse_scores = np.sqrt(-forest_scores)"
      ],
      "execution_count": 49,
      "outputs": []
    },
    {
      "cell_type": "code",
      "metadata": {
        "colab": {
          "base_uri": "https://localhost:8080/",
          "height": 0
        },
        "id": "lwgVbTAhzTRH",
        "outputId": "04877fd3-1bbc-43f8-f581-2ea2b9091866"
      },
      "source": [
        "lin_rmse_scores.mean(), tree_rmse_scores.mean(), forest_rmse_scores.mean()"
      ],
      "execution_count": 50,
      "outputs": [
        {
          "output_type": "execute_result",
          "data": {
            "text/plain": [
              "(42.83931010375802, 23.647657944650202, 18.75859052585728)"
            ]
          },
          "metadata": {
            "tags": []
          },
          "execution_count": 50
        }
      ]
    },
    {
      "cell_type": "markdown",
      "metadata": {
        "id": "nJl7_pZ93pA4"
      },
      "source": [
        "##Fine-Tune the Best Model"
      ]
    },
    {
      "cell_type": "code",
      "metadata": {
        "colab": {
          "base_uri": "https://localhost:8080/",
          "height": 0
        },
        "id": "sDfd9Ibm3uLc",
        "outputId": "32e84b09-a252-4cb9-e025-6fffbf19df64"
      },
      "source": [
        "from sklearn.model_selection import GridSearchCV\n",
        "\n",
        "param_grid = [\n",
        "    {'n_estimators': [3, 10, 30, 90], 'max_features': [2, 4, 6, 8, 54]},\n",
        "    {'bootstrap': [False], 'n_estimators': [3, 10], 'max_features': [2, 3, 4]},\n",
        "  ]\n",
        "\n",
        "forest_reg = RandomForestRegressor()\n",
        "\n",
        "grid_search = GridSearchCV(forest_reg, param_grid, cv=5,\n",
        "                           scoring='neg_mean_squared_error',\n",
        "                           return_train_score=True)\n",
        "\n",
        "grid_search.fit(X_train_prepared, y_train)"
      ],
      "execution_count": 48,
      "outputs": [
        {
          "output_type": "execute_result",
          "data": {
            "text/plain": [
              "GridSearchCV(cv=5, error_score=nan,\n",
              "             estimator=RandomForestRegressor(bootstrap=True, ccp_alpha=0.0,\n",
              "                                             criterion='mse', max_depth=None,\n",
              "                                             max_features='auto',\n",
              "                                             max_leaf_nodes=None,\n",
              "                                             max_samples=None,\n",
              "                                             min_impurity_decrease=0.0,\n",
              "                                             min_impurity_split=None,\n",
              "                                             min_samples_leaf=1,\n",
              "                                             min_samples_split=2,\n",
              "                                             min_weight_fraction_leaf=0.0,\n",
              "                                             n_estimators=100, n_jobs=None,\n",
              "                                             oob_score=False, random_state=None,\n",
              "                                             verbose=0, warm_start=False),\n",
              "             iid='deprecated', n_jobs=None,\n",
              "             param_grid=[{'max_features': [2, 4, 6, 8, 54],\n",
              "                          'n_estimators': [3, 10, 30, 90]},\n",
              "                         {'bootstrap': [False], 'max_features': [2, 3, 4],\n",
              "                          'n_estimators': [3, 10]}],\n",
              "             pre_dispatch='2*n_jobs', refit=True, return_train_score=True,\n",
              "             scoring='neg_mean_squared_error', verbose=0)"
            ]
          },
          "metadata": {
            "tags": []
          },
          "execution_count": 48
        }
      ]
    },
    {
      "cell_type": "code",
      "metadata": {
        "colab": {
          "base_uri": "https://localhost:8080/",
          "height": 0
        },
        "id": "4PIsiq5N5_Af",
        "outputId": "579e716c-8f3a-456e-c153-a63a72ef755f"
      },
      "source": [
        "grid_search.best_params_"
      ],
      "execution_count": 51,
      "outputs": [
        {
          "output_type": "execute_result",
          "data": {
            "text/plain": [
              "{'max_features': 54, 'n_estimators': 10}"
            ]
          },
          "metadata": {
            "tags": []
          },
          "execution_count": 51
        }
      ]
    },
    {
      "cell_type": "code",
      "metadata": {
        "colab": {
          "base_uri": "https://localhost:8080/",
          "height": 0
        },
        "id": "wsV0AMIq67cv",
        "outputId": "c8cd797f-3e88-48e0-89d4-da3c5a0cd0e8"
      },
      "source": [
        "grid_search.best_estimator_"
      ],
      "execution_count": 52,
      "outputs": [
        {
          "output_type": "execute_result",
          "data": {
            "text/plain": [
              "RandomForestRegressor(bootstrap=True, ccp_alpha=0.0, criterion='mse',\n",
              "                      max_depth=None, max_features=54, max_leaf_nodes=None,\n",
              "                      max_samples=None, min_impurity_decrease=0.0,\n",
              "                      min_impurity_split=None, min_samples_leaf=1,\n",
              "                      min_samples_split=2, min_weight_fraction_leaf=0.0,\n",
              "                      n_estimators=10, n_jobs=None, oob_score=False,\n",
              "                      random_state=None, verbose=0, warm_start=False)"
            ]
          },
          "metadata": {
            "tags": []
          },
          "execution_count": 52
        }
      ]
    },
    {
      "cell_type": "code",
      "metadata": {
        "colab": {
          "base_uri": "https://localhost:8080/",
          "height": 0
        },
        "id": "_kOLQql87QES",
        "outputId": "7c900494-f615-408c-aa5f-27a1a97e1189"
      },
      "source": [
        "feature_importances = grid_search.best_estimator_.feature_importances_\n",
        "feature_importances"
      ],
      "execution_count": 53,
      "outputs": [
        {
          "output_type": "execute_result",
          "data": {
            "text/plain": [
              "array([4.21761568e-01, 4.95013938e-01, 7.21903479e-03, 8.63205559e-03,\n",
              "       6.49144493e-03, 6.51304147e-03, 1.00465610e-03, 7.77736588e-04,\n",
              "       7.22224287e-04, 5.08148596e-05, 8.80524472e-04, 6.20395317e-05,\n",
              "       1.08574930e-03, 2.01899960e-03, 1.27131038e-03, 4.53863803e-04,\n",
              "       6.17432080e-05, 1.05112440e-02, 2.94709677e-03, 1.43259423e-03,\n",
              "       1.27308994e-03, 6.53656427e-04, 1.92598700e-03, 1.79202655e-03,\n",
              "       1.75536067e-03, 8.06035883e-04, 5.00229123e-05, 1.22796467e-03,\n",
              "       7.32453798e-05, 1.31167851e-04, 7.27499608e-04, 5.80798264e-03,\n",
              "       1.63111546e-05, 6.12198107e-05, 3.19846058e-05, 5.76341548e-03,\n",
              "       1.54306501e-04, 1.73997273e-04, 8.65325096e-05, 1.70898830e-03,\n",
              "       1.14073886e-04, 3.77157733e-05, 4.65953609e-04, 1.05898414e-03,\n",
              "       7.60518286e-04, 3.30429394e-03, 2.05494900e-05, 1.37805507e-04,\n",
              "       3.44094265e-04, 1.35049471e-04, 2.59536540e-04, 5.91972545e-05,\n",
              "       7.07134112e-05, 9.90389383e-05])"
            ]
          },
          "metadata": {
            "tags": []
          },
          "execution_count": 53
        }
      ]
    },
    {
      "cell_type": "code",
      "metadata": {
        "colab": {
          "base_uri": "https://localhost:8080/",
          "height": 0
        },
        "id": "bhrO2wfS9QUX",
        "outputId": "80115d61-21cc-4b24-addc-ad509ad8c0e0"
      },
      "source": [
        "cat_encoder = full_pipeline.named_transformers_[\"cat\"]\n",
        "#cat_one_hot_attribs = list(cat_encoder.categories_[0])\n",
        "cat_one_hot_attribs = list(cat_encoder.categories_)\n",
        "cat_one_hot_attribs"
      ],
      "execution_count": 54,
      "outputs": [
        {
          "output_type": "execute_result",
          "data": {
            "text/plain": [
              "[array(['Female', 'Male'], dtype=object),\n",
              " array(['Non-Smoker', 'Smoker'], dtype=object),\n",
              " array(['ALS', 'Alcohol/Substance Abuse', \"Alzheimer's Disease\",\n",
              "        'Aneurysm', 'Atrial Fibrillation', 'Build', 'CA Brain',\n",
              "        'CA Breast', 'CA Colorectal', 'CA Digestive', 'CA Endocrine',\n",
              "        'CA Head/Neck', 'CA Kidney', 'CA Lung', 'CA Other', 'CA Pancreas',\n",
              "        'CA Prostate', 'CAD', 'COPD/Emphysema', 'CVA',\n",
              "        'Cardiac Arrhythmia', 'Cardiovascular Disease',\n",
              "        'Cardiovascular disease', 'Dementia', 'Diabetes', 'Elder',\n",
              "        'Frailty', 'Kidney Failure', 'Kidney Transplant', 'Leukemia',\n",
              "        'Liver Disease', 'Liver Transplant', 'MS', 'Melanoma',\n",
              "        'Misc-hematology', 'Misc-lab abnormalities', 'Misc-neurology',\n",
              "        'Miscellaneous', 'Multiple Myeloma', \"Non-Hodgkin's Lymphoma\",\n",
              "        'Other', 'PVD', \"Parkinson's Disease\", 'Polycythemia',\n",
              "        'Pulmonary Disease', 'Renal Insufficiency', 'Rheumatoid Arthritis',\n",
              "        'TIA'], dtype=object)]"
            ]
          },
          "metadata": {
            "tags": []
          },
          "execution_count": 54
        }
      ]
    },
    {
      "cell_type": "code",
      "metadata": {
        "colab": {
          "base_uri": "https://localhost:8080/",
          "height": 0
        },
        "id": "b4MBP_E39WOf",
        "outputId": "b824ec8b-8f0a-4fe7-9734-91b256923530"
      },
      "source": [
        "attributes = num_attribs + cat_one_hot_attribs\n",
        "sorted(zip(feature_importances, attributes), reverse=True)"
      ],
      "execution_count": 55,
      "outputs": [
        {
          "output_type": "execute_result",
          "data": {
            "text/plain": [
              "[(0.49501393814891875, 'Age'),\n",
              " (0.4217615682426381, 'MortalityFactor'),\n",
              " (0.008632055592110392, array(['Non-Smoker', 'Smoker'], dtype=object)),\n",
              " (0.007219034786263371, array(['Female', 'Male'], dtype=object)),\n",
              " (0.006491444931665909,\n",
              "  array(['ALS', 'Alcohol/Substance Abuse', \"Alzheimer's Disease\",\n",
              "         'Aneurysm', 'Atrial Fibrillation', 'Build', 'CA Brain',\n",
              "         'CA Breast', 'CA Colorectal', 'CA Digestive', 'CA Endocrine',\n",
              "         'CA Head/Neck', 'CA Kidney', 'CA Lung', 'CA Other', 'CA Pancreas',\n",
              "         'CA Prostate', 'CAD', 'COPD/Emphysema', 'CVA',\n",
              "         'Cardiac Arrhythmia', 'Cardiovascular Disease',\n",
              "         'Cardiovascular disease', 'Dementia', 'Diabetes', 'Elder',\n",
              "         'Frailty', 'Kidney Failure', 'Kidney Transplant', 'Leukemia',\n",
              "         'Liver Disease', 'Liver Transplant', 'MS', 'Melanoma',\n",
              "         'Misc-hematology', 'Misc-lab abnormalities', 'Misc-neurology',\n",
              "         'Miscellaneous', 'Multiple Myeloma', \"Non-Hodgkin's Lymphoma\",\n",
              "         'Other', 'PVD', \"Parkinson's Disease\", 'Polycythemia',\n",
              "         'Pulmonary Disease', 'Renal Insufficiency', 'Rheumatoid Arthritis',\n",
              "         'TIA'], dtype=object))]"
            ]
          },
          "metadata": {
            "tags": []
          },
          "execution_count": 55
        }
      ]
    },
    {
      "cell_type": "markdown",
      "metadata": {
        "id": "vNZgtx_U6NoQ"
      },
      "source": [
        "##Evaluate System on the Test Set"
      ]
    },
    {
      "cell_type": "code",
      "metadata": {
        "id": "ZY6uHNbe6M0A"
      },
      "source": [
        "final_model = grid_search.best_estimator_"
      ],
      "execution_count": 56,
      "outputs": []
    },
    {
      "cell_type": "code",
      "metadata": {
        "colab": {
          "base_uri": "https://localhost:8080/",
          "height": 0
        },
        "id": "2GgKVXZw6dQ-",
        "outputId": "41e7121b-cd4d-44be-a430-5703471b3fec"
      },
      "source": [
        "X_test_prepared = full_pipeline.transform(X_test)\n",
        "final_predictions = final_model.predict(X_test_prepared)\n",
        "\n",
        "final_mse = mean_squared_error(y_test, final_predictions)\n",
        "final_rmse = np.sqrt(final_mse) \n",
        "final_rmse"
      ],
      "execution_count": 59,
      "outputs": [
        {
          "output_type": "execute_result",
          "data": {
            "text/plain": [
              "30.056093757004163"
            ]
          },
          "metadata": {
            "tags": []
          },
          "execution_count": 59
        }
      ]
    },
    {
      "cell_type": "code",
      "metadata": {
        "id": "11--i-Yc_0q-"
      },
      "source": [
        "#Compare Predictions to Actual LEs in Test Set\n",
        "dataset = pd.DataFrame()\n",
        "dataset['Actual'] = y_test\n",
        "dataset['Final_Predictions'] = final_predictions\n",
        "dataset['%Error'] = ((dataset['Actual'] - dataset['Final_Predictions'])/dataset['Actual'])*100\n",
        "dataset.to_csv(\"predicteds.csv\", index=False)"
      ],
      "execution_count": 85,
      "outputs": []
    }
  ]
}